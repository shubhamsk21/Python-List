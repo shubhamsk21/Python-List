{
 "cells": [
  {
   "cell_type": "markdown",
   "id": "89c680c3",
   "metadata": {},
   "source": [
    "# List method In Python and its inbuilt function\n",
    "\n"
   ]
  },
  {
   "cell_type": "code",
   "execution_count": null,
   "id": "a7a7beaa",
   "metadata": {},
   "outputs": [],
   "source": [
    "# WHAT IS LIST ?\n",
    "   A list is a data structure in python that is a mutable or changeble , ordered sequence of element ,\n",
    "    that is the inside of a list is called an itom \n",
    "    "
   ]
  },
  {
   "cell_type": "code",
   "execution_count": 1,
   "id": "1468ecd1",
   "metadata": {},
   "outputs": [],
   "source": [
    "lst=list()"
   ]
  },
  {
   "cell_type": "code",
   "execution_count": 2,
   "id": "9b5a1d29",
   "metadata": {},
   "outputs": [
    {
     "data": {
      "text/plain": [
       "list"
      ]
     },
     "execution_count": 2,
     "metadata": {},
     "output_type": "execute_result"
    }
   ],
   "source": [
    "type(lst)"
   ]
  },
  {
   "cell_type": "code",
   "execution_count": 11,
   "id": "4069d51c",
   "metadata": {},
   "outputs": [],
   "source": [
    "lst=[\"shubham\",\"manas\",\"amlan\",\"somnath\",66,89,9,65,34]\n"
   ]
  },
  {
   "cell_type": "markdown",
   "id": "ee04caa7",
   "metadata": {},
   "source": [
    "## Append inbuilt function\n",
    "  \n",
    "  Append is used to add elements in the List"
   ]
  },
  {
   "cell_type": "code",
   "execution_count": 12,
   "id": "c3dcd3bf",
   "metadata": {},
   "outputs": [
    {
     "name": "stdout",
     "output_type": "stream",
     "text": [
      "['shubham', 'manas', 'amlan', 'somnath', 66, 89, 9, 65, 34, 'sushree']\n"
     ]
    }
   ],
   "source": [
    "lst.append(\"sushree\")\n",
    "print(lst)\n"
   ]
  },
  {
   "cell_type": "markdown",
   "id": "f7e0fcfa",
   "metadata": {},
   "source": [
    "##  for creating Nasted List "
   ]
  },
  {
   "cell_type": "code",
   "execution_count": 13,
   "id": "08962135",
   "metadata": {},
   "outputs": [
    {
     "name": "stdout",
     "output_type": "stream",
     "text": [
      "['shubham', 'manas', 'amlan', 'somnath', 66, 89, 9, 65, 34, 'sushree', ['sk', 'raja']]\n"
     ]
    }
   ],
   "source": [
    "lst.append([\"sk\",\"raja\"])\n",
    "print(lst)"
   ]
  },
  {
   "cell_type": "markdown",
   "id": "22974a4f",
   "metadata": {},
   "source": [
    "## For copy inbuilt function\n",
    " return a copy of the list"
   ]
  },
  {
   "cell_type": "code",
   "execution_count": 20,
   "id": "9fec7372",
   "metadata": {},
   "outputs": [
    {
     "name": "stdout",
     "output_type": "stream",
     "text": [
      "['shubham', 'manas', 'amlan', 'somnath', 66, 89, 9, 65, 34, 'sushree', ['sk', 'raja']]\n"
     ]
    }
   ],
   "source": [
    "sk=lst.copy()\n",
    "print(sk)"
   ]
  },
  {
   "cell_type": "markdown",
   "id": "dd21fd85",
   "metadata": {},
   "source": [
    "## for Count inbuilt function\n",
    "returns the number of elements with the specific value "
   ]
  },
  {
   "cell_type": "code",
   "execution_count": 23,
   "id": "9ed740ab",
   "metadata": {},
   "outputs": [
    {
     "data": {
      "text/plain": [
       "1"
      ]
     },
     "execution_count": 23,
     "metadata": {},
     "output_type": "execute_result"
    }
   ],
   "source": [
    "sk.count(\"shubham\")"
   ]
  },
  {
   "cell_type": "markdown",
   "id": "48bfb69a",
   "metadata": {},
   "source": [
    "## for Index inbuilt function\n",
    " add the elements of a list , to the end of the curent list"
   ]
  },
  {
   "cell_type": "code",
   "execution_count": 24,
   "id": "95ee692f",
   "metadata": {},
   "outputs": [
    {
     "name": "stdout",
     "output_type": "stream",
     "text": [
      "['shubham', 'manas', 'amlan', 'somnath', 66, 89, 9, 65, 34, 'sushree', ['sk', 'raja'], 'gopal', 'madhu']\n"
     ]
    }
   ],
   "source": [
    "sk.extend([\"gopal\",\"madhu\"])\n",
    "print(sk)"
   ]
  },
  {
   "cell_type": "markdown",
   "id": "a79ef194",
   "metadata": {},
   "source": [
    "## index inbuilt function \n",
    " returns the index of the first elements with the specified value\n"
   ]
  },
  {
   "cell_type": "code",
   "execution_count": 25,
   "id": "af019b6b",
   "metadata": {},
   "outputs": [
    {
     "data": {
      "text/plain": [
       "9"
      ]
     },
     "execution_count": 25,
     "metadata": {},
     "output_type": "execute_result"
    }
   ],
   "source": [
    "sk.index(\"sushree\")"
   ]
  },
  {
   "cell_type": "code",
   "execution_count": 26,
   "id": "c0ac83ab",
   "metadata": {},
   "outputs": [
    {
     "data": {
      "text/plain": [
       "12"
      ]
     },
     "execution_count": 26,
     "metadata": {},
     "output_type": "execute_result"
    }
   ],
   "source": [
    "sk.index(\"madhu\")"
   ]
  },
  {
   "cell_type": "markdown",
   "id": "d0a69fc8",
   "metadata": {},
   "source": [
    "# Insert inbuilt Function\n",
    "Adds an elements at the specified value"
   ]
  },
  {
   "cell_type": "code",
   "execution_count": 28,
   "id": "b82db20f",
   "metadata": {},
   "outputs": [
    {
     "name": "stdout",
     "output_type": "stream",
     "text": [
      "['shubham', 'manas', 'amlan', 'shubham', 'shubham', 'somnath', 66, 89, 9, 65, 34, 'sushree', ['sk', 'raja'], 'gopal', 'madhu']\n"
     ]
    }
   ],
   "source": [
    "sk.insert(3,\"shubham\")\n",
    "print(sk)"
   ]
  },
  {
   "cell_type": "code",
   "execution_count": 36,
   "id": "e881461f",
   "metadata": {
    "scrolled": true
   },
   "outputs": [
    {
     "data": {
      "text/plain": [
       "['shubham',\n",
       " 'manas',\n",
       " 'amlan',\n",
       " 'shubham',\n",
       " 'shubham',\n",
       " 'somnath',\n",
       " 66,\n",
       " 89,\n",
       " 9,\n",
       " 65,\n",
       " 34,\n",
       " 'sushree']"
      ]
     },
     "execution_count": 36,
     "metadata": {},
     "output_type": "execute_result"
    }
   ],
   "source": [
    "sk"
   ]
  },
  {
   "cell_type": "markdown",
   "id": "cab31d70",
   "metadata": {},
   "source": [
    "## Pop Inbuilt function \n",
    "  removes the element at the specified position"
   ]
  },
  {
   "cell_type": "code",
   "execution_count": 30,
   "id": "faf2dbaf",
   "metadata": {},
   "outputs": [
    {
     "data": {
      "text/plain": [
       "'madhu'"
      ]
     },
     "execution_count": 30,
     "metadata": {},
     "output_type": "execute_result"
    }
   ],
   "source": [
    "sk.pop()"
   ]
  },
  {
   "cell_type": "code",
   "execution_count": null,
   "id": "b77ce4dd",
   "metadata": {},
   "outputs": [],
   "source": [
    "#here if i didi not input any specific value then\n",
    "the last index will be deleted \n",
    " #if i put specific valuew then"
   ]
  },
  {
   "cell_type": "code",
   "execution_count": 38,
   "id": "00b80bd8",
   "metadata": {},
   "outputs": [
    {
     "data": {
      "text/plain": [
       "'sushree'"
      ]
     },
     "execution_count": 38,
     "metadata": {},
     "output_type": "execute_result"
    }
   ],
   "source": [
    "sk.pop(10)\n",
    "\n"
   ]
  },
  {
   "cell_type": "code",
   "execution_count": 39,
   "id": "55760d58",
   "metadata": {},
   "outputs": [
    {
     "data": {
      "text/plain": [
       "['shubham', 'manas', 'amlan', 'shubham', 'shubham', 'somnath', 66, 89, 9, 65]"
      ]
     },
     "execution_count": 39,
     "metadata": {},
     "output_type": "execute_result"
    }
   ],
   "source": [
    "sk"
   ]
  },
  {
   "cell_type": "markdown",
   "id": "66ab04c7",
   "metadata": {},
   "source": [
    "## remove inbuilt function\n",
    "  removes the itom with specific value "
   ]
  },
  {
   "cell_type": "code",
   "execution_count": 40,
   "id": "7175162b",
   "metadata": {},
   "outputs": [
    {
     "data": {
      "text/plain": [
       "['shubham', 'manas', 'amlan', 'shubham', 'shubham', 'somnath', 66, 89, 9, 65]"
      ]
     },
     "execution_count": 40,
     "metadata": {},
     "output_type": "execute_result"
    }
   ],
   "source": [
    "sk"
   ]
  },
  {
   "cell_type": "code",
   "execution_count": 41,
   "id": "b1cd4218",
   "metadata": {},
   "outputs": [
    {
     "name": "stdout",
     "output_type": "stream",
     "text": [
      "['shubham', 'manas', 'amlan', 'shubham', 'shubham', 66, 89, 9, 65]\n"
     ]
    }
   ],
   "source": [
    "sk.remove(\"somnath\")\n",
    "print(sk)"
   ]
  },
  {
   "cell_type": "code",
   "execution_count": 42,
   "id": "37ea46bb",
   "metadata": {},
   "outputs": [
    {
     "name": "stdout",
     "output_type": "stream",
     "text": [
      "['shubham', 'manas', 'amlan', 'shubham', 'shubham', 89, 9, 65]\n"
     ]
    }
   ],
   "source": [
    "sk.remove(66)\n",
    "print(sk)"
   ]
  },
  {
   "cell_type": "markdown",
   "id": "84a9cf02",
   "metadata": {},
   "source": [
    "## sort inbuilt function\n",
    "  short the list"
   ]
  },
  {
   "cell_type": "code",
   "execution_count": 47,
   "id": "9dcc8af5",
   "metadata": {},
   "outputs": [
    {
     "data": {
      "text/plain": [
       "['amlan', 'manas', 'shubham', 'shubham', 'shubham']"
      ]
     },
     "execution_count": 47,
     "metadata": {},
     "output_type": "execute_result"
    }
   ],
   "source": [
    "sk"
   ]
  },
  {
   "cell_type": "code",
   "execution_count": 49,
   "id": "6f6e5ec4",
   "metadata": {},
   "outputs": [
    {
     "name": "stdout",
     "output_type": "stream",
     "text": [
      "['amlan', 'manas', 'shubham', 'shubham', 'shubham']\n"
     ]
    }
   ],
   "source": [
    "sk.sort()\n",
    "print(sk)"
   ]
  },
  {
   "cell_type": "code",
   "execution_count": 51,
   "id": "407a3697",
   "metadata": {},
   "outputs": [
    {
     "data": {
      "text/plain": [
       "list"
      ]
     },
     "execution_count": 51,
     "metadata": {},
     "output_type": "execute_result"
    }
   ],
   "source": [
    "sk1=[\"apple\",\"cat\",\"bat\",\"eye\",\"dog\"]\n",
    "type(sk1)"
   ]
  },
  {
   "cell_type": "code",
   "execution_count": 52,
   "id": "c8aec19a",
   "metadata": {},
   "outputs": [
    {
     "name": "stdout",
     "output_type": "stream",
     "text": [
      "['apple', 'bat', 'cat', 'dog', 'eye']\n"
     ]
    }
   ],
   "source": [
    "sk1.sort()\n",
    "print(sk1)"
   ]
  },
  {
   "cell_type": "markdown",
   "id": "2e3d51fb",
   "metadata": {},
   "source": [
    "## reverse inbuilt function\n",
    "  reverses the order of the list"
   ]
  },
  {
   "cell_type": "code",
   "execution_count": 55,
   "id": "ae31d539",
   "metadata": {},
   "outputs": [
    {
     "name": "stdout",
     "output_type": "stream",
     "text": [
      "['shubham', 'shubham', 'shubham', 'manas', 'amlan']\n"
     ]
    }
   ],
   "source": [
    "sk.reverse()\n",
    "print(sk)"
   ]
  },
  {
   "cell_type": "code",
   "execution_count": 56,
   "id": "13389613",
   "metadata": {},
   "outputs": [],
   "source": [
    "sk1.reverse()"
   ]
  },
  {
   "cell_type": "code",
   "execution_count": 57,
   "id": "515a4bf4",
   "metadata": {},
   "outputs": [
    {
     "data": {
      "text/plain": [
       "['eye', 'dog', 'cat', 'bat', 'apple']"
      ]
     },
     "execution_count": 57,
     "metadata": {},
     "output_type": "execute_result"
    }
   ],
   "source": [
    "sk1"
   ]
  },
  {
   "cell_type": "markdown",
   "id": "c337cbea",
   "metadata": {},
   "source": [
    "## clear inbuilt fiunction\n",
    "  removes all the elements of the list"
   ]
  },
  {
   "cell_type": "code",
   "execution_count": 59,
   "id": "bad8a478",
   "metadata": {},
   "outputs": [],
   "source": [
    "sk.clear()\n"
   ]
  },
  {
   "cell_type": "code",
   "execution_count": 61,
   "id": "45486294",
   "metadata": {},
   "outputs": [
    {
     "data": {
      "text/plain": [
       "[]"
      ]
     },
     "execution_count": 61,
     "metadata": {},
     "output_type": "execute_result"
    }
   ],
   "source": [
    "sk"
   ]
  },
  {
   "cell_type": "code",
   "execution_count": 62,
   "id": "c91a86d9",
   "metadata": {},
   "outputs": [],
   "source": [
    "sk1.clear()"
   ]
  },
  {
   "cell_type": "code",
   "execution_count": 63,
   "id": "6365b161",
   "metadata": {},
   "outputs": [
    {
     "data": {
      "text/plain": [
       "[]"
      ]
     },
     "execution_count": 63,
     "metadata": {},
     "output_type": "execute_result"
    }
   ],
   "source": [
    "sk1"
   ]
  },
  {
   "cell_type": "markdown",
   "id": "3423203b",
   "metadata": {},
   "source": [
    "# THANKS HAVE A NICE DAY FROM SHUBHAM "
   ]
  }
 ],
 "metadata": {
  "kernelspec": {
   "display_name": "Python 3 (ipykernel)",
   "language": "python",
   "name": "python3"
  },
  "language_info": {
   "codemirror_mode": {
    "name": "ipython",
    "version": 3
   },
   "file_extension": ".py",
   "mimetype": "text/x-python",
   "name": "python",
   "nbconvert_exporter": "python",
   "pygments_lexer": "ipython3",
   "version": "3.9.12"
  }
 },
 "nbformat": 4,
 "nbformat_minor": 5
}
